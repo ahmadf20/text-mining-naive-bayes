{
  "nbformat": 4,
  "nbformat_minor": 0,
  "metadata": {
    "colab": {
      "name": "DataMining.ipynb",
      "provenance": [],
      "collapsed_sections": [],
      "toc_visible": true,
      "authorship_tag": "ABX9TyNB5SHQ3XwD6efMXPwXXZiO",
      "include_colab_link": true
    },
    "kernelspec": {
      "name": "python3",
      "display_name": "Python 3"
    }
  },
  "cells": [
    {
      "cell_type": "markdown",
      "metadata": {
        "id": "view-in-github",
        "colab_type": "text"
      },
      "source": [
        "<a href=\"https://colab.research.google.com/github/ahmadf20/text-mining-naive-bayes/blob/main/DataMining.ipynb\" target=\"_parent\"><img src=\"https://colab.research.google.com/assets/colab-badge.svg\" alt=\"Open In Colab\"/></a>"
      ]
    },
    {
      "cell_type": "markdown",
      "metadata": {
        "id": "_MTbkvuzxlA2"
      },
      "source": [
        "# Data Preparation\r\n"
      ]
    },
    {
      "cell_type": "code",
      "metadata": {
        "colab": {
          "base_uri": "https://localhost:8080/"
        },
        "id": "14i_Zs51aX4S",
        "outputId": "15e3ef47-4769-46a2-9e07-26c5f8c4b378"
      },
      "source": [
        "import re\r\n",
        "import json\r\n",
        "from collections import Counter\r\n",
        "\r\n",
        "# sklearn - machine learning library\r\n",
        "from sklearn.feature_extraction.text import TfidfVectorizer\r\n",
        "from sklearn.neighbors import KNeighborsClassifier\r\n",
        "from sklearn.naive_bayes import MultinomialNB\r\n",
        "\r\n",
        "# numpy - scientific computing library\r\n",
        "import numpy as np\r\n",
        "\r\n",
        "# pandas - python data analysis library\r\n",
        "import pandas as pd\r\n",
        "\r\n",
        "# sastrawi - stemming library (bahasa indonesia)\r\n",
        "!pip install Sastrawi\r\n",
        "from Sastrawi.Stemmer.StemmerFactory import StemmerFactory\r\n",
        "\r\n",
        "# tqdm - progress bar library\r\n",
        "from tqdm import tqdm"
      ],
      "execution_count": 1,
      "outputs": [
        {
          "output_type": "stream",
          "text": [
            "Collecting Sastrawi\n",
            "\u001b[?25l  Downloading https://files.pythonhosted.org/packages/6f/4b/bab676953da3103003730b8fcdfadbdd20f333d4add10af949dd5c51e6ed/Sastrawi-1.0.1-py2.py3-none-any.whl (209kB)\n",
            "\r\u001b[K     |█▋                              | 10kB 16.5MB/s eta 0:00:01\r\u001b[K     |███▏                            | 20kB 16.0MB/s eta 0:00:01\r\u001b[K     |████▊                           | 30kB 7.3MB/s eta 0:00:01\r\u001b[K     |██████▎                         | 40kB 7.2MB/s eta 0:00:01\r\u001b[K     |███████▉                        | 51kB 3.8MB/s eta 0:00:01\r\u001b[K     |█████████▍                      | 61kB 4.5MB/s eta 0:00:01\r\u001b[K     |███████████                     | 71kB 5.1MB/s eta 0:00:01\r\u001b[K     |████████████▌                   | 81kB 5.2MB/s eta 0:00:01\r\u001b[K     |██████████████                  | 92kB 5.7MB/s eta 0:00:01\r\u001b[K     |███████████████▋                | 102kB 5.6MB/s eta 0:00:01\r\u001b[K     |█████████████████▏              | 112kB 5.6MB/s eta 0:00:01\r\u001b[K     |██████████████████▊             | 122kB 5.6MB/s eta 0:00:01\r\u001b[K     |████████████████████▎           | 133kB 5.6MB/s eta 0:00:01\r\u001b[K     |█████████████████████▉          | 143kB 5.6MB/s eta 0:00:01\r\u001b[K     |███████████████████████▍        | 153kB 5.6MB/s eta 0:00:01\r\u001b[K     |█████████████████████████       | 163kB 5.6MB/s eta 0:00:01\r\u001b[K     |██████████████████████████▋     | 174kB 5.6MB/s eta 0:00:01\r\u001b[K     |████████████████████████████▏   | 184kB 5.6MB/s eta 0:00:01\r\u001b[K     |█████████████████████████████▊  | 194kB 5.6MB/s eta 0:00:01\r\u001b[K     |███████████████████████████████▎| 204kB 5.6MB/s eta 0:00:01\r\u001b[K     |████████████████████████████████| 215kB 5.6MB/s \n",
            "\u001b[?25hInstalling collected packages: Sastrawi\n",
            "Successfully installed Sastrawi-1.0.1\n"
          ],
          "name": "stdout"
        }
      ]
    },
    {
      "cell_type": "markdown",
      "metadata": {
        "id": "uo0qG2GzsyKw"
      },
      "source": [
        "Data diperoleh dari https://ptik.fkip.uns.ac.id/skripsi/home/judul"
      ]
    },
    {
      "cell_type": "code",
      "metadata": {
        "colab": {
          "base_uri": "https://localhost:8080/"
        },
        "id": "dBOlnT8mVpZQ",
        "outputId": "6fd2ce33-1bf5-485c-9301-81fd9e039684"
      },
      "source": [
        "!wget 'https://github.com/ahmadf20/text-mining-naive-bayes/raw/main/raw_datasets.xlsx'\r\n",
        "!wget 'https://github.com/ahmadf20/text-mining-naive-bayes/raw/main/stopwords-id.json'"
      ],
      "execution_count": 2,
      "outputs": [
        {
          "output_type": "stream",
          "text": [
            "--2020-12-30 20:39:12--  https://github.com/ahmadf20/text-mining-naive-bayes/raw/main/raw_datasets.xlsx\n",
            "Resolving github.com (github.com)... 140.82.112.3\n",
            "Connecting to github.com (github.com)|140.82.112.3|:443... connected.\n",
            "HTTP request sent, awaiting response... 302 Found\n",
            "Location: https://raw.githubusercontent.com/ahmadf20/text-mining-naive-bayes/main/raw_datasets.xlsx [following]\n",
            "--2020-12-30 20:39:12--  https://raw.githubusercontent.com/ahmadf20/text-mining-naive-bayes/main/raw_datasets.xlsx\n",
            "Resolving raw.githubusercontent.com (raw.githubusercontent.com)... 151.101.0.133, 151.101.64.133, 151.101.128.133, ...\n",
            "Connecting to raw.githubusercontent.com (raw.githubusercontent.com)|151.101.0.133|:443... connected.\n",
            "HTTP request sent, awaiting response... 200 OK\n",
            "Length: 26955 (26K) [application/octet-stream]\n",
            "Saving to: ‘raw_datasets.xlsx’\n",
            "\n",
            "raw_datasets.xlsx   100%[===================>]  26.32K  --.-KB/s    in 0.001s  \n",
            "\n",
            "2020-12-30 20:39:13 (20.3 MB/s) - ‘raw_datasets.xlsx’ saved [26955/26955]\n",
            "\n",
            "--2020-12-30 20:39:13--  https://github.com/ahmadf20/text-mining-naive-bayes/raw/main/stopwords-id.json\n",
            "Resolving github.com (github.com)... 140.82.112.4\n",
            "Connecting to github.com (github.com)|140.82.112.4|:443... connected.\n",
            "HTTP request sent, awaiting response... 302 Found\n",
            "Location: https://raw.githubusercontent.com/ahmadf20/text-mining-naive-bayes/main/stopwords-id.json [following]\n",
            "--2020-12-30 20:39:13--  https://raw.githubusercontent.com/ahmadf20/text-mining-naive-bayes/main/stopwords-id.json\n",
            "Resolving raw.githubusercontent.com (raw.githubusercontent.com)... 151.101.0.133, 151.101.64.133, 151.101.128.133, ...\n",
            "Connecting to raw.githubusercontent.com (raw.githubusercontent.com)|151.101.0.133|:443... connected.\n",
            "HTTP request sent, awaiting response... 200 OK\n",
            "Length: 7955 (7.8K) [text/plain]\n",
            "Saving to: ‘stopwords-id.json’\n",
            "\n",
            "stopwords-id.json   100%[===================>]   7.77K  --.-KB/s    in 0s      \n",
            "\n",
            "2020-12-30 20:39:13 (51.7 MB/s) - ‘stopwords-id.json’ saved [7955/7955]\n",
            "\n"
          ],
          "name": "stdout"
        }
      ]
    },
    {
      "cell_type": "code",
      "metadata": {
        "colab": {
          "base_uri": "https://localhost:8080/",
          "height": 359
        },
        "id": "_jiZKZ5hjdWn",
        "outputId": "aebfdfc1-c930-42b2-9ba8-cacaad48fd5c"
      },
      "source": [
        "df = pd.read_excel(\"raw_datasets.xlsx\")\r\n",
        "df.head(10)"
      ],
      "execution_count": 3,
      "outputs": [
        {
          "output_type": "execute_result",
          "data": {
            "text/html": [
              "<div>\n",
              "<style scoped>\n",
              "    .dataframe tbody tr th:only-of-type {\n",
              "        vertical-align: middle;\n",
              "    }\n",
              "\n",
              "    .dataframe tbody tr th {\n",
              "        vertical-align: top;\n",
              "    }\n",
              "\n",
              "    .dataframe thead th {\n",
              "        text-align: right;\n",
              "    }\n",
              "</style>\n",
              "<table border=\"1\" class=\"dataframe\">\n",
              "  <thead>\n",
              "    <tr style=\"text-align: right;\">\n",
              "      <th></th>\n",
              "      <th>NIM/Nama</th>\n",
              "      <th>Judul</th>\n",
              "      <th>Jenis</th>\n",
              "      <th>Pembimbing</th>\n",
              "      <th>Status</th>\n",
              "    </tr>\n",
              "  </thead>\n",
              "  <tbody>\n",
              "    <tr>\n",
              "      <th>0</th>\n",
              "      <td>K3515028 / HERMAN SANJAYA</td>\n",
              "      <td>UPAYA MENINGKATKAN HASIL BELAJAR DAN KEAKTIFAN...</td>\n",
              "      <td>Penelitian Tindakan Kelas</td>\n",
              "      <td>Dwi Maryono, S.Si, M.Kom</td>\n",
              "      <td>Revisi</td>\n",
              "    </tr>\n",
              "    <tr>\n",
              "      <th>1</th>\n",
              "      <td>NaN</td>\n",
              "      <td>NaN</td>\n",
              "      <td>NaN</td>\n",
              "      <td>Dr. Agus Efendi, M.Pd</td>\n",
              "      <td>NaN</td>\n",
              "    </tr>\n",
              "    <tr>\n",
              "      <th>2</th>\n",
              "      <td>K3515018 / Ely Rohmawati</td>\n",
              "      <td>UPAYA MENINGKATKAN HASIL BELAJAR DAN KEAKTIFAN...</td>\n",
              "      <td>Penelitian Tindakan Kelas</td>\n",
              "      <td>Basori, S.Pd., M.Pd</td>\n",
              "      <td>Acc Ujian Skripsi</td>\n",
              "    </tr>\n",
              "    <tr>\n",
              "      <th>3</th>\n",
              "      <td>NaN</td>\n",
              "      <td>NaN</td>\n",
              "      <td>NaN</td>\n",
              "      <td>Puspanda Hatta, S. Kom., M.Eng</td>\n",
              "      <td>NaN</td>\n",
              "    </tr>\n",
              "    <tr>\n",
              "      <th>4</th>\n",
              "      <td>K3517018 / Dimas Galang Ramadhan</td>\n",
              "      <td>TINJAUAN PENGARUH GAME-BASED LEARNING TERHADAP...</td>\n",
              "      <td>Penelitian Kualitatif</td>\n",
              "      <td>Cucuk Wawan Budiyanto, ST., Ph.D</td>\n",
              "      <td>Mendapat Dosen Pembimbing</td>\n",
              "    </tr>\n",
              "    <tr>\n",
              "      <th>5</th>\n",
              "      <td>NaN</td>\n",
              "      <td>NaN</td>\n",
              "      <td>NaN</td>\n",
              "      <td>Rosihan Ari Yuana, S.Si, M.Kom</td>\n",
              "      <td>NaN</td>\n",
              "    </tr>\n",
              "    <tr>\n",
              "      <th>6</th>\n",
              "      <td>K3514037 / Putri Wulandari</td>\n",
              "      <td>Studi Evaluasi terhadap Game Edukatif untuk Pe...</td>\n",
              "      <td>Penelitian Kualitatif</td>\n",
              "      <td>Endar Suprih W., S.T.,M.Eng</td>\n",
              "      <td>Acc Ujian Skripsi</td>\n",
              "    </tr>\n",
              "    <tr>\n",
              "      <th>7</th>\n",
              "      <td>NaN</td>\n",
              "      <td>NaN</td>\n",
              "      <td>NaN</td>\n",
              "      <td>Rosihan Ari Yuana, S.Si, M.Kom</td>\n",
              "      <td>NaN</td>\n",
              "    </tr>\n",
              "    <tr>\n",
              "      <th>8</th>\n",
              "      <td>K3516024 / Febri Candra Nur Baiti</td>\n",
              "      <td>Strategi Practice Rehearsal Pair dalam model p...</td>\n",
              "      <td>Penelitian Kuantitatif</td>\n",
              "      <td>Basori, S.Pd., M.Pd</td>\n",
              "      <td>Acc Seminar Proposal</td>\n",
              "    </tr>\n",
              "    <tr>\n",
              "      <th>9</th>\n",
              "      <td>NaN</td>\n",
              "      <td>NaN</td>\n",
              "      <td>NaN</td>\n",
              "      <td>Cucuk Wawan Budiyanto, ST., Ph.D</td>\n",
              "      <td>NaN</td>\n",
              "    </tr>\n",
              "  </tbody>\n",
              "</table>\n",
              "</div>"
            ],
            "text/plain": [
              "                            NIM/Nama  ...                     Status\n",
              "0          K3515028 / HERMAN SANJAYA  ...                     Revisi\n",
              "1                                NaN  ...                        NaN\n",
              "2           K3515018 / Ely Rohmawati  ...          Acc Ujian Skripsi\n",
              "3                                NaN  ...                        NaN\n",
              "4   K3517018 / Dimas Galang Ramadhan  ...  Mendapat Dosen Pembimbing\n",
              "5                                NaN  ...                        NaN\n",
              "6         K3514037 / Putri Wulandari  ...          Acc Ujian Skripsi\n",
              "7                                NaN  ...                        NaN\n",
              "8  K3516024 / Febri Candra Nur Baiti  ...       Acc Seminar Proposal\n",
              "9                                NaN  ...                        NaN\n",
              "\n",
              "[10 rows x 5 columns]"
            ]
          },
          "metadata": {
            "tags": []
          },
          "execution_count": 3
        }
      ]
    },
    {
      "cell_type": "code",
      "metadata": {
        "id": "DVT7lbCdl2ph"
      },
      "source": [
        "df['Pembimbing2'] = np.zeros\r\n",
        "for index, row in df.iterrows():\r\n",
        "  if(index%2 != 0):\r\n",
        "    df.iloc[index-1]['Pembimbing2'] = row['Pembimbing']\r\n",
        "\r\n",
        "df = df.loc[::2]\r\n"
      ],
      "execution_count": 4,
      "outputs": []
    },
    {
      "cell_type": "code",
      "metadata": {
        "colab": {
          "base_uri": "https://localhost:8080/"
        },
        "id": "9tzNHRBYxOFx",
        "outputId": "10bdb95a-7050-4f2a-8eb4-df8db0e673d5"
      },
      "source": [
        "df.columns"
      ],
      "execution_count": 5,
      "outputs": [
        {
          "output_type": "execute_result",
          "data": {
            "text/plain": [
              "Index(['NIM/Nama', 'Judul', 'Jenis', 'Pembimbing', 'Status', 'Pembimbing2'], dtype='object')"
            ]
          },
          "metadata": {
            "tags": []
          },
          "execution_count": 5
        }
      ]
    },
    {
      "cell_type": "code",
      "metadata": {
        "id": "7jyA0bLOxQmw"
      },
      "source": [
        "df = df[['NIM/Nama', 'Judul', 'Jenis', 'Pembimbing', 'Pembimbing2','Status']]"
      ],
      "execution_count": 6,
      "outputs": []
    },
    {
      "cell_type": "code",
      "metadata": {
        "colab": {
          "base_uri": "https://localhost:8080/",
          "height": 572
        },
        "id": "HBibbo4sopda",
        "outputId": "b7f1788c-25e9-41e7-a70d-0be75892d67b"
      },
      "source": [
        "df"
      ],
      "execution_count": 7,
      "outputs": [
        {
          "output_type": "execute_result",
          "data": {
            "text/html": [
              "<div>\n",
              "<style scoped>\n",
              "    .dataframe tbody tr th:only-of-type {\n",
              "        vertical-align: middle;\n",
              "    }\n",
              "\n",
              "    .dataframe tbody tr th {\n",
              "        vertical-align: top;\n",
              "    }\n",
              "\n",
              "    .dataframe thead th {\n",
              "        text-align: right;\n",
              "    }\n",
              "</style>\n",
              "<table border=\"1\" class=\"dataframe\">\n",
              "  <thead>\n",
              "    <tr style=\"text-align: right;\">\n",
              "      <th></th>\n",
              "      <th>NIM/Nama</th>\n",
              "      <th>Judul</th>\n",
              "      <th>Jenis</th>\n",
              "      <th>Pembimbing</th>\n",
              "      <th>Pembimbing2</th>\n",
              "      <th>Status</th>\n",
              "    </tr>\n",
              "  </thead>\n",
              "  <tbody>\n",
              "    <tr>\n",
              "      <th>0</th>\n",
              "      <td>K3515028 / HERMAN SANJAYA</td>\n",
              "      <td>UPAYA MENINGKATKAN HASIL BELAJAR DAN KEAKTIFAN...</td>\n",
              "      <td>Penelitian Tindakan Kelas</td>\n",
              "      <td>Dwi Maryono, S.Si, M.Kom</td>\n",
              "      <td>Dr. Agus Efendi, M.Pd</td>\n",
              "      <td>Revisi</td>\n",
              "    </tr>\n",
              "    <tr>\n",
              "      <th>2</th>\n",
              "      <td>K3515018 / Ely Rohmawati</td>\n",
              "      <td>UPAYA MENINGKATKAN HASIL BELAJAR DAN KEAKTIFAN...</td>\n",
              "      <td>Penelitian Tindakan Kelas</td>\n",
              "      <td>Basori, S.Pd., M.Pd</td>\n",
              "      <td>Puspanda Hatta, S. Kom., M.Eng</td>\n",
              "      <td>Acc Ujian Skripsi</td>\n",
              "    </tr>\n",
              "    <tr>\n",
              "      <th>4</th>\n",
              "      <td>K3517018 / Dimas Galang Ramadhan</td>\n",
              "      <td>TINJAUAN PENGARUH GAME-BASED LEARNING TERHADAP...</td>\n",
              "      <td>Penelitian Kualitatif</td>\n",
              "      <td>Cucuk Wawan Budiyanto, ST., Ph.D</td>\n",
              "      <td>Rosihan Ari Yuana, S.Si, M.Kom</td>\n",
              "      <td>Mendapat Dosen Pembimbing</td>\n",
              "    </tr>\n",
              "    <tr>\n",
              "      <th>6</th>\n",
              "      <td>K3514037 / Putri Wulandari</td>\n",
              "      <td>Studi Evaluasi terhadap Game Edukatif untuk Pe...</td>\n",
              "      <td>Penelitian Kualitatif</td>\n",
              "      <td>Endar Suprih W., S.T.,M.Eng</td>\n",
              "      <td>Rosihan Ari Yuana, S.Si, M.Kom</td>\n",
              "      <td>Acc Ujian Skripsi</td>\n",
              "    </tr>\n",
              "    <tr>\n",
              "      <th>8</th>\n",
              "      <td>K3516024 / Febri Candra Nur Baiti</td>\n",
              "      <td>Strategi Practice Rehearsal Pair dalam model p...</td>\n",
              "      <td>Penelitian Kuantitatif</td>\n",
              "      <td>Basori, S.Pd., M.Pd</td>\n",
              "      <td>Cucuk Wawan Budiyanto, ST., Ph.D</td>\n",
              "      <td>Acc Seminar Proposal</td>\n",
              "    </tr>\n",
              "    <tr>\n",
              "      <th>...</th>\n",
              "      <td>...</td>\n",
              "      <td>...</td>\n",
              "      <td>...</td>\n",
              "      <td>...</td>\n",
              "      <td>...</td>\n",
              "      <td>...</td>\n",
              "    </tr>\n",
              "    <tr>\n",
              "      <th>338</th>\n",
              "      <td>K3515050 / Rizka Rizkianna</td>\n",
              "      <td>Analisis Efektivitas Penggunaan Teknologi Asis...</td>\n",
              "      <td>Mixed Method</td>\n",
              "      <td>Dr. Agus Efendi, M.Pd</td>\n",
              "      <td>Dwi Maryono, S.Si, M.Kom</td>\n",
              "      <td>Pembimbingan Seminar</td>\n",
              "    </tr>\n",
              "    <tr>\n",
              "      <th>340</th>\n",
              "      <td>K3517039 / Muhammad Luthfi Zulfikar</td>\n",
              "      <td>Analisis dan Evaluasi Penerapan Sistem Informa...</td>\n",
              "      <td>Research and Development</td>\n",
              "      <td>Nurcahya Pradana Taufik Prakisya, S. Kom, M. CS.</td>\n",
              "      <td>Yusfia Hafid Aristyagama, S. T, M. T.</td>\n",
              "      <td>Mendapat Dosen Pembimbing</td>\n",
              "    </tr>\n",
              "    <tr>\n",
              "      <th>342</th>\n",
              "      <td>K3516021 / Fadilla Shinta Devi</td>\n",
              "      <td>Analisis dan Evaluasi Aplikasi Berbasis Mobile...</td>\n",
              "      <td>Penelitian Kualitatif</td>\n",
              "      <td>Puspanda Hatta, S. Kom., M.Eng</td>\n",
              "      <td>Rosihan Ari Yuana, S.Si, M.Kom</td>\n",
              "      <td>Acc Ujian Skripsi</td>\n",
              "    </tr>\n",
              "    <tr>\n",
              "      <th>344</th>\n",
              "      <td>K3516019 / Dimas Maenaka Aji Perdana</td>\n",
              "      <td>Analisis dan Evaluasi Aplikasi Belajar Pemrogr...</td>\n",
              "      <td>Penelitian Kualitatif</td>\n",
              "      <td>Rosihan Ari Yuana, S.Si, M.Kom</td>\n",
              "      <td>Yusfia Hafid Aristyagama, S. T, M. T.</td>\n",
              "      <td>Acc Seminar Proposal</td>\n",
              "    </tr>\n",
              "    <tr>\n",
              "      <th>346</th>\n",
              "      <td>K3515026 / Halim Perdana Kesuma</td>\n",
              "      <td>ANALISIS PENGGUNAAN PENDEKATAN QUESTION FORMUL...</td>\n",
              "      <td>Penelitian Kualitatif</td>\n",
              "      <td>Dwi Maryono, S.Si, M.Kom</td>\n",
              "      <td>Dr. Agus Efendi, M.Pd</td>\n",
              "      <td>Mendapat Dosen Pembimbing</td>\n",
              "    </tr>\n",
              "  </tbody>\n",
              "</table>\n",
              "<p>174 rows × 6 columns</p>\n",
              "</div>"
            ],
            "text/plain": [
              "                                 NIM/Nama  ...                     Status\n",
              "0               K3515028 / HERMAN SANJAYA  ...                     Revisi\n",
              "2                K3515018 / Ely Rohmawati  ...          Acc Ujian Skripsi\n",
              "4        K3517018 / Dimas Galang Ramadhan  ...  Mendapat Dosen Pembimbing\n",
              "6              K3514037 / Putri Wulandari  ...          Acc Ujian Skripsi\n",
              "8       K3516024 / Febri Candra Nur Baiti  ...       Acc Seminar Proposal\n",
              "..                                    ...  ...                        ...\n",
              "338            K3515050 / Rizka Rizkianna  ...       Pembimbingan Seminar\n",
              "340   K3517039 / Muhammad Luthfi Zulfikar  ...  Mendapat Dosen Pembimbing\n",
              "342        K3516021 / Fadilla Shinta Devi  ...          Acc Ujian Skripsi\n",
              "344  K3516019 / Dimas Maenaka Aji Perdana  ...       Acc Seminar Proposal\n",
              "346       K3515026 / Halim Perdana Kesuma  ...  Mendapat Dosen Pembimbing\n",
              "\n",
              "[174 rows x 6 columns]"
            ]
          },
          "metadata": {
            "tags": []
          },
          "execution_count": 7
        }
      ]
    },
    {
      "cell_type": "code",
      "metadata": {
        "id": "D0IprdYrwCHK"
      },
      "source": [
        "df.to_excel('dataset_pre.xlsx', index=False)"
      ],
      "execution_count": 8,
      "outputs": []
    },
    {
      "cell_type": "markdown",
      "metadata": {
        "id": "iLds1JdKxj6C"
      },
      "source": [
        "# Data Processing\r\n",
        "Membersihkan dokumen dengan cara:\r\n",
        "\r\n",
        "1.   Merubah kapilal menjadi nonkapital (Case Folding)  \r\n",
        "2.   Memotong kalimat menjadi kumpulan kata (Tokenizing)\r\n",
        "3.   Menghilangkan kata yang tidak penting (Filtering/Stopword)\r\n",
        "4.   Mengubah kata ke bentuk dasar (Stemming)"
      ]
    },
    {
      "cell_type": "code",
      "metadata": {
        "id": "1l9bQRNmsolt"
      },
      "source": [
        "# import file yang berisi kata-kata tidak penting\r\n",
        "data_stopword = json.load(open('stopwords-id.json','r'))\r\n",
        "\r\n",
        "# menjadikan array stopword menjadi unordered collection (set())\r\n",
        "# agar dapat dilakukan operasi matematis seperti union, intersection, symmetric difference\r\n",
        "stopword = set(data_stopword)\r\n",
        "\r\n",
        "# method untuk cleaning dokumen\r\n",
        "def clean(doc):\r\n",
        "    # merubah kapital menjadi non kapital & menghilangkan kata tidak penting\r\n",
        "    stop_free = \" \".join([i for i in doc.lower().split() if i not in stopword])\r\n",
        "    # mengubah kata ke bentuk dasar\r\n",
        "    stemmer = StemmerFactory().create_stemmer()\r\n",
        "    normalized = stemmer.stem(stop_free)\r\n",
        "    # memotong kalimat menjadi kumpulan kata\r\n",
        "    y = normalized.split()\r\n",
        "    return y\r\n",
        "\r\n",
        "# method untuk cleaning dokumen berupa array\r\n",
        "def clean_with_loop(arr):\r\n",
        "    hasil = []\r\n",
        "    progress = tqdm(arr)\r\n",
        "    for item in progress:\r\n",
        "        progress.set_description(\"Membersihkan dokumen\")\r\n",
        "        cleaned = clean(item)\r\n",
        "        cleaned = ' '.join(cleaned)\r\n",
        "        hasil.append(cleaned)\r\n",
        "    return hasil"
      ],
      "execution_count": 9,
      "outputs": []
    },
    {
      "cell_type": "code",
      "metadata": {
        "colab": {
          "base_uri": "https://localhost:8080/"
        },
        "id": "S7lTYFGrx7yN",
        "outputId": "40b1d685-e674-4fe0-c180-6627e66496ad"
      },
      "source": [
        "# import dataset \r\n",
        "dataset = pd.read_excel('dataset_pre.xlsx')\r\n",
        "print(dataset.head())\r\n",
        "\r\n",
        "# mengambil hanya kolom Teks dan disimpan di variabel skripsi (yang siap dibersihkan)\r\n",
        "skripsi = []\r\n",
        "for index, row in dataset.iterrows():\r\n",
        "    skripsi.append(row[\"Judul\"])\r\n",
        "\r\n",
        "print(\"Jumlah skripsi: \", len(skripsi))\r\n",
        "\r\n",
        "# mengambil hanya kolom label dalam variabel y_train\r\n",
        "y_train = []\r\n",
        "for index, row in dataset.iterrows():\r\n",
        "    y_train.append(row[\"Pembimbing\"])\r\n",
        "\r\n",
        "print(\"Jumlah Pembimbing: \", len(y_train))\r\n",
        "\r\n",
        "# membersihkan dokumen skripsi\r\n",
        "skripsi_bersih = clean_with_loop(skripsi)"
      ],
      "execution_count": 10,
      "outputs": [
        {
          "output_type": "stream",
          "text": [
            "Membersihkan dokumen:   0%|          | 0/174 [00:00<?, ?it/s]"
          ],
          "name": "stderr"
        },
        {
          "output_type": "stream",
          "text": [
            "                            NIM/Nama  ...                     Status\n",
            "0          K3515028 / HERMAN SANJAYA  ...                     Revisi\n",
            "1           K3515018 / Ely Rohmawati  ...          Acc Ujian Skripsi\n",
            "2   K3517018 / Dimas Galang Ramadhan  ...  Mendapat Dosen Pembimbing\n",
            "3         K3514037 / Putri Wulandari  ...          Acc Ujian Skripsi\n",
            "4  K3516024 / Febri Candra Nur Baiti  ...       Acc Seminar Proposal\n",
            "\n",
            "[5 rows x 6 columns]\n",
            "Jumlah skripsi:  174\n",
            "Jumlah Pembimbing:  174\n"
          ],
          "name": "stdout"
        },
        {
          "output_type": "stream",
          "text": [
            "Membersihkan dokumen: 100%|██████████| 174/174 [01:44<00:00,  1.66it/s]\n"
          ],
          "name": "stderr"
        }
      ]
    },
    {
      "cell_type": "code",
      "metadata": {
        "colab": {
          "base_uri": "https://localhost:8080/"
        },
        "id": "l6i0zs9k13ci",
        "outputId": "365e7919-a624-4208-e4a3-1e94060a3728"
      },
      "source": [
        "skripsi_bersih"
      ],
      "execution_count": 11,
      "outputs": [
        {
          "output_type": "execute_result",
          "data": {
            "text/plain": [
              "['upaya tingkat hasil ajar aktif siswa model ajar blended learning dengan bantu edmodo ajar teknologi layan jaring kelas xi tkj 2 smk negeri 1 banyudono',\n",
              " 'upaya tingkat hasil ajar aktif siswa dengan model ajar discovery learning brainstorming ajar jaring dasar kelas x tkj 1 smk negeri 1 banyudono',\n",
              " 'tinjau pengaruh game-based learning kembang computational thinking skills perspektif teori brennan resnick',\n",
              " 'studi evaluasi game edukatif didik sd kelas rendah ajar hitung tinjau aspek gamifikasi kurikulum',\n",
              " 'strategi practice rehearsal pair model ajar active learning kreativitas collaboration skill siswa ajar dasar desain grafis',\n",
              " 'sistem dukung putus klasterisasi publikasi ilmiah k-means fkip uns',\n",
              " 'sistem ajar adaptif bas api pemrograman java dengan dekat model siswa instruksional',\n",
              " 'simulasi ukur kerja otomatisasi jaring laboratorium komputer studi laboratorium komputer ptik fkip uns',\n",
              " 'scoping review guna augmented reality media ajar tingkat motivasi siswa',\n",
              " 'relevansi kuliah kerja praktek industri bidang multimedia program studi didik teknik informatika komputer',\n",
              " 'rancang bangun private cloud container based media ajar administrasi server',\n",
              " 'profil mampu pikir kreatif mahasiswa selesai masalah materi ajar pemrograman komputer dasar',\n",
              " 'php intelligent tutor media ajar adaptif bas web api pemrograman php dengan model expert student instructional',\n",
              " 'beda pengaruh guna media ajar bas android power point minat ajar siswa ajar komputer jaring dasar smk negeri 2 karanganyar',\n",
              " 'beda ajar konvensional dengan blended learning tipe face to face driver model bantu moodle mandiri ajar serta didik smkn 6 surakarta',\n",
              " 'banding usabilitas ergonomi ekstensibilitas trainer jaring komputer media ajar jaring komputer didik vokasi',\n",
              " 'banding tingkat sulit guna android studio app inventor kembang aplikasi android studi mahasiswa didik teknik informatika komputer uns',\n",
              " 'banding guna corel draw adobe ilustrator hasil ajar siswa ajar desain grafis',\n",
              " 'banding guna aplikasi blender dengan aplikasi 3ds max paham siswa ajar animasi 3 dimensi smk batik 2 surakarta',\n",
              " 'banding terap model ajar kooperatif tipe jigsaw iv reverse jigsaw tinjau partisipasi mampu kognitif siswa smk n 3 surakarta',\n",
              " 'banding kerja metode support vector machine naive bayes klasifikasi dokumen skripsi',\n",
              " 'banding hypervisor-based virtual box linux container windows jalan debian server ajar administrasi jaring komputer prodi ptik',\n",
              " 'banding algoritma klasifikasi data mining prediksi lama studi mahasiswa ptik uns',\n",
              " 'ancang ui ux web-app the bean s origin dengan dekat human centered design hcd analisis heuristic evaluation tingkat usability',\n",
              " 'selesai materi subnetting ajar rancang bangun jaring metode ajar project based learning pandemi covid-19 smk',\n",
              " 'tingkat motivasi ajar siswa efektif giat ajar ajar model ajar student team achievement divisions stad kelas x smkn 2 surakarta',\n",
              " 'kembang trainer wallnet media ajar konfigurasi router smk negeri 1 sawit',\n",
              " 'kembang trainer netcube media ajar praktik addressing routing jaring komputer',\n",
              " 'kembang sistem presensi bas deteksi wajah raspberry pi dengan metode convolutional neural network cnn',\n",
              " 'kembang sistem informasi pariwisata augmented reality bas geolocation',\n",
              " 'kembang sistem informasi manajemen validasi data kelas siswa sekolah dasar bas web',\n",
              " 'kembang sistem informasi manajemen kurikulum ajar bas web sekolah haji umrah baitullah rubaiyat',\n",
              " 'kembang sistem informasi manajemen ekstrakurikuler bas web',\n",
              " 'kembang sistem informasi inventarisasi barang ruang bas web jurus teknik juru fkip uns',\n",
              " 'kembang purwarupa sistem kelola greenhouse bas iot',\n",
              " 'kembang media ajar mobile learning bas android materi instalasi software aplikasi kelas x rpl smk n 5 surakarta',\n",
              " 'kembang media ajar mobile bas augmented reality ar pokok bahas konsep routing ajar administrasi infrastruktur jaring smk',\n",
              " 'kembang media ajar aman jaring bas android',\n",
              " 'kembang media ajar bas video scratch ajar teknologi jaring bas luas smk n 2 surakarta',\n",
              " 'kembang media ajar bas android ajar administrasi infrastruktur jaring materi routing statis',\n",
              " 'kembang media ajar augmented reality kuliah robotika program studi didik teknik informatika komputer universitas sebelas maret',\n",
              " 'kembang media ajar android pokok bahas sistem edar darah manusia ajar ipa smp',\n",
              " 'kembang media ajar bas augmented reality ar pokok bahas bentuk molekul ajar kimia sma',\n",
              " 'kembang media ajar ajar tata surya kelas 6 sd bas android dengan teknologi virtual reality',\n",
              " 'kembang laboratorium cloud computing bas container media praktik aman jaring ptik fkip uns',\n",
              " 'kembang game visual novel media ajar sejarah merdeka indonesia',\n",
              " 'kembang game rhythm media ajar seni musik gamelan',\n",
              " 'kembang cloud-infrastructure as a service sedia layan video on demand dukung sumber daya massive open online courses mooc program studi ptik',\n",
              " 'kembang aplikasi web dengan web api media ajar adaptif pemrograman python',\n",
              " 'kembang aplikasi visualisasi data bas firebase integrasi dengan internet of things iot monitoring greenhouse',\n",
              " 'kembang aplikasi monitoring kpi key performance indicator bas web fkip uns',\n",
              " 'kembang aplikasi media ajar bahasa isyarat bas android',\n",
              " 'kembang aplikasi android bas cloud computing tunjang usaha handy talkie solo gasdo co',\n",
              " 'kembang aplikas umpan feedback dosen bas cross-platform apps kerja ajar dosen flutter react',\n",
              " 'pengaruh project-based blended learning hasil ajar siswa ajar dasar desain grafis',\n",
              " 'pengaruh project-based blended learning hasil ajar siswa kelas x multimedia smk negeri 6 surakarta ajar dasar desain grafis',\n",
              " 'pengaruh production based learning kreativitas siswa ajar dasar desain grafis smk negeri 2 surakarta',\n",
              " 'pengaruh guna teknologi cloud computing bas software as a service kelola giat ajar studi smk negeri 1 sawit',\n",
              " 'pengaruh guna photoshop corelldraw mudah desain mahasiwa kelas komputer grafik',\n",
              " 'pengaruh guna model samr mampu pikir kritis siswa ajar pemrograman dasar kelas x tkj smkn 1 jobong',\n",
              " 'pengaruh guna metode ajar pbl tutor baya paham siswa ajar dasar desain grafik kelas x jurus multimedia smk batik 2 surakarta',\n",
              " 'pengaruh guna media sosial pribadi disiplin ajar siswa kelas xii smk negeri 6 surakarta',\n",
              " 'pengaruh guna media sosial game online kesiap ajar minat ajar serta didik kelas xi multimedia 2 smk negeri 3 surakarta',\n",
              " 'pengaruh guna media sosal intensitas main game online hasil ajar kuliah minat mahasiswa ptik uns',\n",
              " 'pengaruh guna media robotika model ajar steam anak',\n",
              " 'pengaruh guna media ajar articulate storyline motivasi ajar prestasi ajar siswa ajar pemrograman dasar smk negeri 5 surakarta',\n",
              " 'pengaruh guna game online kreativitas mahasiswa hasil ajar mahasiswa ptik fkip uns kuliah pemrograman komputer',\n",
              " 'pengaruh guna aplikasi mobile learning bas digital flashcard dengan quizlet paham perintah dasar linux minat ajar siswa smk tkj',\n",
              " 'pengaruh terap model ajar cooperative learning tipe teams games tournament tgt bantu aplikasi quizizz hasil ajar tinjau motivasi ajar ajar simulasi digital',\n",
              " 'pengaruh terap model ajar blended learning tipe face to face driver model minat hasil ajar ajar simulasi digital siswa smk sakti golong',\n",
              " 'pengaruh terap google classroom model ajar blended learning hasil ajar siswa',\n",
              " 'pengaruh manfaat multimedia ajar interaktif adaptasi computer based instruction hasil ajar siswa ajar komputer jaring dasar',\n",
              " 'pengaruh motivasi hasil ajar kognitif siswa microsoft visio paham diagram ajar model perangkat lunak',\n",
              " 'pengaruh model ajar student teams achievement division stad padu discovery learning hasil ajar aktif siswa smk',\n",
              " 'pengaruh model ajar problem based learning padu group investigation hasil ajar aktif ajar komputer jaring dasar siswa kelas x smk n 5 surakarta',\n",
              " 'pengaruh model ajar nht numbered head together tingkat hasil ajar ajar simulasi digital kelas x smk muhammadiyah gubug',\n",
              " 'pengaruh model ajar kooperatif tipe practice-rehearsal pairs prp hasil ajar siswa ajar desain grafis cetak',\n",
              " 'pengaruh model ajar gamified flip instrucsion motivasi hasil ajar siswa ajar administrasi infrastuktur jaring smk 1 batur jaya ceper',\n",
              " 'pengaruh model ajar flex blended learning bas lms motivasi ajar hasil ajar',\n",
              " 'pengaruh model ajar dgbl mampu pikir kritis problem solving ajar pemrograman dasar siswa smkn 3 surakarta',\n",
              " 'pengaruh model ajar blended learning bas lms motivasi ajar hasil ajar siswa ajar administrasi infrastruktur jaring kelas xi smk sakti golong',\n",
              " 'pengaruh minds-on activity mampu computational thinking mahasiswa ptik media bas robotika',\n",
              " 'pengaruh media ajar modul bas teks video hasil ajar siswa kelas xi tkj smk negeri 2 surakarta',\n",
              " 'pengaruh media ajar model blended learning dengan strategi flipped classroom bangun karakter siswa ajar simulasi digital kelas x smk negeri 5 surakarta',\n",
              " 'pengaruh media ajar bas augmented reality motivasi ajar aktif serta didik materi ajar organ',\n",
              " 'pengaruh mastery-based blended learning mandiri kreativitas siswa ajar dasar desain grafis kelas x jurus tkj smk n 1 sawit boyolali',\n",
              " 'pengaruh kombinasi model ajar flipped classroom mind mapping tingkat mampu pikir kritis siswa',\n",
              " 'pengaruh aktif organ mampu hafal al-qur an prestasi ajar mahasiswa ptik fkip uns kuliah pemrograman web',\n",
              " 'pengaruh game based learning bantu media main papan aktif hasil ajar serta didik ajar komputer terap jaring smk negeri 1 banyudono',\n",
              " 'pengaruh game based learning bantu kahoot tingkat hasil ajar siswa ajar animasi 2 dimensi smk negeri 9 surakarta',\n",
              " 'pengaruh discovery learning probing-prompting hasil ajar siswa ajar sistem komputer kelas x-tkj smkn 2 surakarta',\n",
              " 'terap model ajar project based learning ajar teknik animasi 2d 3d tingkat terampil psikomotorik kreativitas serta didik',\n",
              " 'terap model ajar problem based learning dengan metode mind mapping tingkat aktif hasil ajar siswa xi tkj 2 ajar administrasi sistem jaring',\n",
              " 'terap model ajar problem based instruction pbi dengan metode demonstrasi upaya tingkat paham hasil ajar siswa giat ajar ajar dasar desain grafis smk 2 karanganyar',\n",
              " 'terap model ajar kumon dengan strategi active learning tingkat hasil ajar siswa kelas x axioo smk negeri 5 surakarta ajar simulasi komunikasi digital',\n",
              " 'terap model ajar kooperatif tipe think pairs share tingkat partisipasi siswa ajar sistem komputer kelas x tkj smk negeri 1 sukoharjo',\n",
              " 'terap model end user computing euc saticfaction evaluasi tingkat puas guna cguide cbuddy conference guide mobile application',\n",
              " 'terap institutional theory nilai tingkat terima dosen guna sistem ajar daring spada lingkung jurus didik teknik juru jptk fkip uns',\n",
              " 'terap delone and mclean information system success model evaluasi hasil adopsi sistem bas web siakad uns',\n",
              " 'terap algoritma na ve bayes classifier prediksi kira tunggu alumni kerja studi program studi ptik fkip uns',\n",
              " 'buat sistem presensi mahasiswa dengan teknologi mobile based face recognition tensorflow',\n",
              " 'buat sistem dukung putus tentu siswa prestasi metode simple additive weighting saw smk negeri 1 lumajang',\n",
              " 'buat sistem informasi laboratorium bas web metode rapid application development rad',\n",
              " 'buat sistem informasi e-learning tingkat aktif siswa ajar desain web kelas xi smk n 1 demak',\n",
              " 'manfaat aplikasi bas android ajar mandiri ajar pemrograman dasar kelas x multimedia smk negeri 6 surakarta',\n",
              " 'ukur efektivitas game cisco aspire tingkat paham mampu psikomotorik mahasiswa kuliah komunikasi data jaring 1',\n",
              " 'bangun mampu pikir kritis ketrampilan konfigurasi firewall media vps',\n",
              " 'kaji terap internet of things simulator smart home',\n",
              " 'investigasi aplikasi daring media ajar aman komputer jaring',\n",
              " 'integrasi steam dengan kompetensi dasar ajar desain grafis dekat konstruktivisme model ajar jarak jauh',\n",
              " 'implementasi recursive query database postgresql mysql optimasi olah data meta mutu didik',\n",
              " 'implementasi model ajar team assisted individualization tai blended learning schoology tinjau hasil ajar siswa',\n",
              " 'implementasi laboratorium komputer sekolah raspberry pi dengan sistem simpan diskless perangkat lunak open source',\n",
              " 'implementasi data mining prediksi studi mahasiswa metode c4 5 studi ptik fkip uns',\n",
              " 'implementasi aplikasi ids perangkat iot raspberry pi',\n",
              " 'implementasi algoritma c4 5 prediksi prestasi ajar siswa smk negeri 6 surakarta',\n",
              " 'evaluasi aplikasi simulator jaring komputer dukung ajar online dengan model pjbl',\n",
              " 'evaluasi sistem monitoring perangkat drip irrigation system ajar internet of things',\n",
              " 'evaluasi sistem manajemen konferensi cbuddy model technology acceptance model tam',\n",
              " 'evaluasi sistem informasi managemen santri siap amwin pondok pesantren al muayyad windan dengan metode technology acceptance model tam',\n",
              " 'evaluasi progam praktik industri mahasiswa didik teknik informatika komputer fkip uns model cipp',\n",
              " 'evaluasi kembang simulator context-aware smart green building fasilitas ajar teknologi smart home',\n",
              " 'evaluasi kembang perangkat robotika ajar anak usia fasilitas kembang computational thinking',\n",
              " 'evaluasi terap technological pedagogical content knowledge tpack model blended learning dasar persepsi siswa',\n",
              " 'evaluasi capai mampu computational thinking calon guru sekolah dasar ajar steam robotika',\n",
              " 'evaluasi magang didik 3 prodi didik teknik informatika komputer',\n",
              " 'evaluasi mampu abstraksi siswa abstract thinking framework ajar stem modul robotika',\n",
              " 'evaluasi mampu abstraksi siswa dengan model hands on activity ajar stem modul robotika',\n",
              " 'eksplorasi kembang computational thinking dengan framework brennan resnick platform pemrograman visual code org',\n",
              " 'efektivitas guna video tutorial tingkat hasil ajar internet of things',\n",
              " 'efektivitas guna model ajar blended learning bas video tutorial tinjau paham siswa ajar dasar desain grafis smk negeri 1 banyudono',\n",
              " 'efektivitas guna media ajar prezi tingkat minat hasil ajar siswa ajar simulasi komunikasi digital smk negeri 5 surakarta',\n",
              " 'efektivitas guna media ajar augmented reality tingkat mampu pikir kritis kuliah animasi 3d mahasiswa program studi ptik fkip uns',\n",
              " 'efektivitas guna digital game-based learning dgbl tingkat motivasi hasil ajar siswa ajar dasar desaian grafis smk batik 2 surakarta',\n",
              " 'efektivitas guna blended learning tipe flipped classroom tinjau hasil ajar siswa ajar simulasi digital smk negeri 3 surakarta',\n",
              " 'efektivitas guna aplikasi kahoot tinjau tingkat atensi prestasi ajar serta didik ajar dasar desain grafis smk negeri 3 surakarta',\n",
              " 'efektivitas terap project based learning bas konten video minat hasil ajar serta didik ajar simulasi digital smk negeri 6 surakarta',\n",
              " 'efektivitas terap model ajar creative problem solving bantu edcite tingkat paham konsep hasil ajar serta didik ajar sistem komputer smk negeri 6 surakarta',\n",
              " 'efektivitas model ajar problem based learning dengan metode peer teaching tinjau minat hasil ajar smk negeri 3 surakarta',\n",
              " 'efektivitas model ajar guided inquiry tinjau mampu pikir kritis siswa ajar simulasi komunikasi digital smk negeri 2 surakarta',\n",
              " 'efektivitas pengaruh terap skill berfikir komputasi model ajar kontekstual cipta kreativitas inovasi siswa',\n",
              " 'efektifitas guna ajar daring dengan lms google classroom tingkat mampu pikir kritis',\n",
              " 'efektifitas guna media ajar videoscribe tingkat motivasi ajar hasil ajar siswa ajar dasar desain grafis smk negeri 5 surakarta',\n",
              " 'efektifitas guna komputer mikro raspberry pi media ajar sistem operasi tinjau minat prestasi ajar siswa smk negeri 1 sawit boyolali',\n",
              " 'efektifitas terap model ajar project based learning dengan metode tutor baya tinjau aktif hasil ajar siswa ajar desain grafis',\n",
              " 'efektifitas game based learning dengan aplikasi kahoot tinjau minat ajar hasil ajar serta didik ajar simulasi digital smk negeri 3 surakarta',\n",
              " 'desain ajar tingkat sikap kewirausahaan siswa studi smk negeri 1 sawit boyolali',\n",
              " 'desain implementasi smart laboratory bas arduino otomasi gedung',\n",
              " 'coba judul',\n",
              " 'analisis tingkat self regulated learning mahasiswa jptk pandemi covid-19',\n",
              " 'analisis tingkat selaras guna software pemrograman framework ptik uns dengan dunia industri',\n",
              " 'analisis pola perilaku siswa didik juru ajar stem robotika lego mindstorm tinjau gaya ajar kolb',\n",
              " 'analisis peran computational thinking capai terampil abad ke-21 media bas robotika siswa didik tengah juru',\n",
              " 'analisis pengaruh ajar robotika dengan dekat konstruktivisme mampu pikir komputasi mahasiswa prodi ptik uns',\n",
              " 'analisis pengaruh manfaat mudah minat guna sistem informasi pantau tugas sipta program studi didik teknik informatika komputer uns',\n",
              " 'analisis terap model project based blended learning bantu lms tingkat kreatifitas hasil ajar siswa ajar dasar desain grafis',\n",
              " 'analisis capai terampil abad 21 ajar constructivist dengan teknologi kendara kemudi driverless vehicle bas arduino',\n",
              " 'analisis capai mampu computational thinking gaya ajar media bas robotika',\n",
              " 'analisis laksana ajar dengan dekat problem-based learning robomind kuliah pemrograman dasar ptik uns',\n",
              " 'analisis media ajar online media dukung mampu kolaborasi siswa ajar abad ke-21',\n",
              " 'analisis kerja virtual server bas proxmox virtual environment ve',\n",
              " 'analisis baca source code perangkat lunak studi program studi didik teknik informatika komputer universitas sebelas maret',\n",
              " 'analisis kesiap ajar pemrograman siswa madrasah tsanawiyah negeri surakarta 1 dasar mampu pikir komputasi',\n",
              " 'analisis mampu pikir kritis siswa terap model ajar problem based learning bantu edpuzzle ajar dasar desain grafis',\n",
              " 'analisis mampu technological pedagogical content knowledge tpack calon guru ptik fkip uns ajar',\n",
              " 'analisis efektif podcast media alternatif ajar jarak bas audio baik ucap pronunciation ajar bahasa inggris kelas viii smp negeri 1 sambi',\n",
              " 'analisis aman jaring siswa smk dengan cyberciege',\n",
              " 'analisis implementasi teknologi cloud computing smk tinjau total cost of ownership perspektif guru',\n",
              " 'analisis implementasi e-learning smk negeri 1 sawit boyolali dengan technology acceptance model tam',\n",
              " 'analisis efektivitas guna teknologi asistif tingkat motivasi prestasi ajar siswa sandang tunanetra',\n",
              " 'analisis evaluasi terap sistem informasi siap sman12 manajemen administrasi didik sman 12 bandung dengan metode usability testing',\n",
              " 'analisis evaluasi aplikasi bas mobile media ajar bahasa pemrograman python tinjau aspek usability capai ajar',\n",
              " 'analisis evaluasi aplikasi ajar pemrograman dasar tinjau aspek gamifikasi',\n",
              " 'analisis guna dekat question formulation technique qft tingkat aktifitas siswa kelas smkn 6 sukoharjo']"
            ]
          },
          "metadata": {
            "tags": []
          },
          "execution_count": 11
        }
      ]
    },
    {
      "cell_type": "markdown",
      "metadata": {
        "id": "3-Vvmx6C2a90"
      },
      "source": [
        "# Membentuk TF-IDF\r\n"
      ]
    },
    {
      "cell_type": "code",
      "metadata": {
        "colab": {
          "base_uri": "https://localhost:8080/"
        },
        "id": "5JocPum72hRb",
        "outputId": "a44546ad-e34b-4602-b86d-6a8b27c2920f"
      },
      "source": [
        "# pembentukan vektor tf-idf untuk pembobotan kata\r\n",
        "vectorizer = TfidfVectorizer(stop_words=data_stopword)\r\n",
        "x_train = vectorizer.fit_transform(skripsi_bersih)\r\n",
        "print(x_train)"
      ],
      "execution_count": 12,
      "outputs": [
        {
          "output_type": "stream",
          "text": [
            "  (0, 63)\t0.277889561826779\n",
            "  (0, 369)\t0.15918334851967542\n",
            "  (0, 522)\t0.13387055931543607\n",
            "  (0, 578)\t0.2356055554924108\n",
            "  (0, 624)\t0.25736377079184025\n",
            "  (0, 271)\t0.17501429083825534\n",
            "  (0, 258)\t0.1821994006756096\n",
            "  (0, 313)\t0.30905141967871436\n",
            "  (0, 561)\t0.2356055554924108\n",
            "  (0, 157)\t0.33378597776457564\n",
            "  (0, 62)\t0.24203285525848484\n",
            "  (0, 131)\t0.15918334851967542\n",
            "  (0, 314)\t0.1480612000372425\n",
            "  (0, 76)\t0.20693395876147086\n",
            "  (0, 353)\t0.13865755748473663\n",
            "  (0, 514)\t0.12048878486857281\n",
            "  (0, 21)\t0.22979135562317057\n",
            "  (0, 20)\t0.24903192784677672\n",
            "  (0, 211)\t0.1510375428236743\n",
            "  (0, 575)\t0.16277279120294108\n",
            "  (0, 598)\t0.2915019714302074\n",
            "  (1, 122)\t0.18694445419398253\n",
            "  (1, 80)\t0.3745763104991978\n",
            "  (1, 142)\t0.3271249849763996\n",
            "  (1, 63)\t0.311849070150965\n",
            "  :\t:\n",
            "  (171, 65)\t0.16960135941099092\n",
            "  (171, 47)\t0.3371789989072145\n",
            "  (171, 170)\t0.22723350040348184\n",
            "  (171, 576)\t0.23104858119022206\n",
            "  (171, 20)\t0.19203606231851025\n",
            "  (172, 31)\t0.2752981193532517\n",
            "  (172, 38)\t0.30901749664166284\n",
            "  (172, 403)\t0.3196904667843518\n",
            "  (172, 190)\t0.4861390130685555\n",
            "  (172, 47)\t0.45853366681162494\n",
            "  (172, 170)\t0.30901749664166284\n",
            "  (172, 576)\t0.31420566965361235\n",
            "  (172, 122)\t0.26204151320893126\n",
            "  (172, 20)\t0.13057604432713105\n",
            "  (173, 22)\t0.3683609193404333\n",
            "  (173, 454)\t0.3683609193404333\n",
            "  (173, 557)\t0.3683609193404333\n",
            "  (173, 184)\t0.3683609193404333\n",
            "  (173, 456)\t0.3683609193404333\n",
            "  (173, 543)\t0.3410642527248767\n",
            "  (173, 31)\t0.19314299990266304\n",
            "  (173, 523)\t0.28402258192124735\n",
            "  (173, 271)\t0.19314299990266304\n",
            "  (173, 514)\t0.1329695149617802\n",
            "  (173, 575)\t0.17963347475733046\n"
          ],
          "name": "stdout"
        },
        {
          "output_type": "stream",
          "text": [
            "/usr/local/lib/python3.6/dist-packages/sklearn/feature_extraction/text.py:385: UserWarning: Your stop_words may be inconsistent with your preprocessing. Tokenizing the stop words generated tokens ['kali', 'kurangnya', 'lamanya', 'olah', 'sekurang', 'setidak', 'tama', 'tidaknya'] not in stop_words.\n",
            "  'stop_words.' % sorted(inconsistent))\n"
          ],
          "name": "stderr"
        }
      ]
    },
    {
      "cell_type": "code",
      "metadata": {
        "colab": {
          "base_uri": "https://localhost:8080/"
        },
        "id": "t-p2r3D93YiX",
        "outputId": "87ed12e0-cb9d-4a96-ab1b-2b51cd0402ae"
      },
      "source": [
        "totalDosen = set(y_train)\r\n",
        "totalDosen"
      ],
      "execution_count": 13,
      "outputs": [
        {
          "output_type": "execute_result",
          "data": {
            "text/plain": [
              "{'Aris Budianto, S.T., M.Eng',\n",
              " 'Basori, S.Pd., M.Pd',\n",
              " 'Cucuk Wawan Budiyanto, ST., Ph.D',\n",
              " 'Dr. Agus Efendi, M.Pd',\n",
              " 'Dwi Maryono, S.Si, M.Kom',\n",
              " 'Endar Suprih W., S.T.,M.Eng',\n",
              " 'Febri Liantoni, S. ST., M. Kom',\n",
              " 'Nurcahya Pradana Taufik Prakisya, S. Kom, M. CS.',\n",
              " 'Puspanda Hatta, S. Kom., M.Eng',\n",
              " 'Rosihan Ari Yuana, S.Si, M.Kom'}"
            ]
          },
          "metadata": {
            "tags": []
          },
          "execution_count": 13
        }
      ]
    },
    {
      "cell_type": "code",
      "metadata": {
        "colab": {
          "base_uri": "https://localhost:8080/"
        },
        "id": "WZE02Ob026qL",
        "outputId": "34f5539d-1e3a-4a1e-ab67-30e426036c7b"
      },
      "source": [
        "# pengelompokan dokumen dengan dengan naive bayes\r\n",
        "modelNB = MultinomialNB()\r\n",
        "modelNB.fit(x_train,y_train)"
      ],
      "execution_count": 14,
      "outputs": [
        {
          "output_type": "execute_result",
          "data": {
            "text/plain": [
              "MultinomialNB(alpha=1.0, class_prior=None, fit_prior=True)"
            ]
          },
          "metadata": {
            "tags": []
          },
          "execution_count": 14
        }
      ]
    },
    {
      "cell_type": "markdown",
      "metadata": {
        "id": "E-lzABaK4rwJ"
      },
      "source": [
        "# Pengujian\r\n"
      ]
    },
    {
      "cell_type": "code",
      "metadata": {
        "colab": {
          "base_uri": "https://localhost:8080/"
        },
        "id": "vhXZtUPX4rOQ",
        "outputId": "88102b67-2472-4cd2-d23a-eb9a72c66d89"
      },
      "source": [
        "kalimat_tes = [\"UPAYA MENINGKATKAN HASIL BELAJAR DAN KEAKTIFAN SISWA MELALUI MODEL PEMBELAJARAN BLENDED LEARNING DENGAN BERBANTUKAN EDMODO PADA MATA PELAJARAN TEKNOLOGI LAYANAN JARINGAN KELAS XI TKJ 2 DI SMK NEGERI 1 BANYUDONO\",\r\n",
        "               \"UPAYA MENINGKATKAN HASIL BELAJAR DAN KEAKTIFAN SISWA DENGAN MODEL PEMBELAJARAN DISCOVERY LEARNING BRAINSTORMING DALAM MATA PELAJARAN JARINGAN DASAR KELAS X TKJ 1 DI SMK NEGERI 1 BANYUDONO\",\r\n",
        "               \"TINJAUAN PENGARUH GAME-BASED LEARNING TERHADAP PERKEMBANGAN COMPUTATIONAL THINKING SKILLS DARI PERSPEKTIF TEORI BRENNAN & RESNICK\",\r\n",
        "               \"Studi Evaluasi terhadap Game Edukatif untuk Pendidikan SD (Kelas Rendah) dalam Pembelajaran Berhitung ditinjau dari Aspek Gamifikasi dan Kurikulum\"]\r\n",
        "\r\n",
        "# membersihkan dokumen pengujian\r\n",
        "kalimat_tes_bersih = clean_with_loop(kalimat_tes)\r\n",
        "\r\n",
        "# loop untuk prediksi kelompok\r\n",
        "for teks in kalimat_tes_bersih:\r\n",
        "    arr_teks = []\r\n",
        "    arr_teks.append(teks)\r\n",
        "    vektor = vectorizer.transform(arr_teks)\r\n",
        "    prediksi_label_knn = modelNB.predict(vektor)\r\n",
        "    print(\"\\n- Judul :\"+teks, \":\\n\" + \"Pembimbing : \" + prediksi_label_knn[0])"
      ],
      "execution_count": 15,
      "outputs": [
        {
          "output_type": "stream",
          "text": [
            "Membersihkan dokumen: 100%|██████████| 4/4 [00:03<00:00,  1.27it/s]"
          ],
          "name": "stderr"
        },
        {
          "output_type": "stream",
          "text": [
            "\n",
            "- Judul :upaya tingkat hasil ajar aktif siswa model ajar blended learning dengan bantu edmodo ajar teknologi layan jaring kelas xi tkj 2 smk negeri 1 banyudono :\n",
            "Pembimbing : Basori, S.Pd., M.Pd\n",
            "\n",
            "- Judul :upaya tingkat hasil ajar aktif siswa dengan model ajar discovery learning brainstorming ajar jaring dasar kelas x tkj 1 smk negeri 1 banyudono :\n",
            "Pembimbing : Basori, S.Pd., M.Pd\n",
            "\n",
            "- Judul :tinjau pengaruh game-based learning kembang computational thinking skills perspektif teori brennan resnick :\n",
            "Pembimbing : Cucuk Wawan Budiyanto, ST., Ph.D\n",
            "\n",
            "- Judul :studi evaluasi game edukatif didik sd kelas rendah ajar hitung tinjau aspek gamifikasi kurikulum :\n",
            "Pembimbing : Endar Suprih W., S.T.,M.Eng\n"
          ],
          "name": "stdout"
        },
        {
          "output_type": "stream",
          "text": [
            "\n"
          ],
          "name": "stderr"
        }
      ]
    }
  ]
}